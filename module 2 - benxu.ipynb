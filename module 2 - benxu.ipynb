{
 "cells": [
  {
   "cell_type": "markdown",
   "id": "681fa958",
   "metadata": {},
   "source": [
    "# Data Science Tools and Ecosystem"
   ]
  },
  {
   "cell_type": "markdown",
   "id": "51ed8091",
   "metadata": {},
   "source": [
    "In this notebook, Data Science Tools and Ecosystem are summarized."
   ]
  },
  {
   "cell_type": "markdown",
   "id": "d6ef36bf",
   "metadata": {},
   "source": [
    "# Objectives:\n",
    "\n",
    "- **List popular languages for Data Science:** Explore and understand some of the widely used programming languages in the field of Data Science.\n",
    "- **Introduce Jupyter Notebooks:** Learn about the Jupyter Notebook environment and its significance in interactive computing.\n",
    "- **Overview of Open Source Tools:** Familiarize yourself with key open-source tools commonly used in data science development environments.\n",
    "- **Markdown Syntax:** Understand how to use Markdown syntax for creating formatted text, headers, and lists in Jupyter Notebooks.\n",
    "- **Basic Data Science Concepts:** Gain insights into fundamental concepts and practices in the field of data science."
   ]
  },
  {
   "cell_type": "markdown",
   "id": "81d0d88f",
   "metadata": {},
   "source": [
    "Some of the popular languages that Data Scientists use are:\n",
    "* Python\n",
    "* SQL\n",
    "* Julia"
   ]
  },
  {
   "cell_type": "markdown",
   "id": "71c3cdea",
   "metadata": {},
   "source": [
    "Some of the commonly used libraries used by Data Scientists include:\n",
    "* numpy\n",
    "* pandas\n",
    "* seaborn\n",
    "* matplotlib"
   ]
  },
  {
   "cell_type": "markdown",
   "id": "b86c23e5",
   "metadata": {},
   "source": [
    "| Data Science Tools |\n",
    "| ------------- |\n",
    "| 1, Jupyter Notebook |\n",
    "| 2, RStudio  |\n",
    "| 3, Apache Zeppelin  |"
   ]
  },
  {
   "cell_type": "markdown",
   "id": "b3b660b8",
   "metadata": {},
   "source": [
    "### Below are a few examples of evaluating arithmetic expressions in Python"
   ]
  },
  {
   "cell_type": "code",
   "execution_count": 2,
   "id": "130dd826",
   "metadata": {},
   "outputs": [
    {
     "data": {
      "text/plain": [
       "17"
      ]
     },
     "execution_count": 2,
     "metadata": {},
     "output_type": "execute_result"
    }
   ],
   "source": [
    "#This a simple arithmetic expression to mutiply then add integers\n",
    "(3*4)+5"
   ]
  },
  {
   "cell_type": "code",
   "execution_count": 4,
   "id": "e3a3bf6a",
   "metadata": {},
   "outputs": [
    {
     "data": {
      "text/plain": [
       "3.3333333333333335"
      ]
     },
     "execution_count": 4,
     "metadata": {},
     "output_type": "execute_result"
    }
   ],
   "source": [
    "# This will convert 200 minutes to hours by diving by 60\n",
    "hours = 200/60\n",
    "hours"
   ]
  },
  {
   "cell_type": "markdown",
   "id": "e68c2f6f",
   "metadata": {},
   "source": [
    "## Author\n",
    "\n",
    "Benjamin Xu"
   ]
  },
  {
   "cell_type": "code",
   "execution_count": null,
   "id": "6555fac7",
   "metadata": {},
   "outputs": [],
   "source": []
  }
 ],
 "metadata": {
  "kernelspec": {
   "display_name": "Python 3 (ipykernel)",
   "language": "python",
   "name": "python3"
  },
  "language_info": {
   "codemirror_mode": {
    "name": "ipython",
    "version": 3
   },
   "file_extension": ".py",
   "mimetype": "text/x-python",
   "name": "python",
   "nbconvert_exporter": "python",
   "pygments_lexer": "ipython3",
   "version": "3.10.9"
  }
 },
 "nbformat": 4,
 "nbformat_minor": 5
}
